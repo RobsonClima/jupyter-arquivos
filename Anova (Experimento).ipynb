{
 "cells": [
  {
   "cell_type": "code",
   "execution_count": 1,
   "metadata": {},
   "outputs": [],
   "source": [
    "import seaborn as sns\n",
    "import matplotlib.pyplot as plt\n",
    "import pandas as pd\n",
    "import scipy.stats as stats\n",
    "from statsmodels.formula.api import ols"
   ]
  },
  {
   "cell_type": "code",
   "execution_count": 2,
   "metadata": {},
   "outputs": [],
   "source": [
    "dados = pd.read_excel('C:\\\\Users\\\\User\\\\Desktop\\\\projeto Matheus\\\\hipoteses.xlsx',sheet_name='H1')"
   ]
  },
  {
   "cell_type": "code",
   "execution_count": 3,
   "metadata": {},
   "outputs": [
    {
     "data": {
      "text/html": [
       "<div>\n",
       "<style scoped>\n",
       "    .dataframe tbody tr th:only-of-type {\n",
       "        vertical-align: middle;\n",
       "    }\n",
       "\n",
       "    .dataframe tbody tr th {\n",
       "        vertical-align: top;\n",
       "    }\n",
       "\n",
       "    .dataframe thead th {\n",
       "        text-align: right;\n",
       "    }\n",
       "</style>\n",
       "<table border=\"1\" class=\"dataframe\">\n",
       "  <thead>\n",
       "    <tr style=\"text-align: right;\">\n",
       "      <th></th>\n",
       "      <th>As pessoas, de modo geral, \"compartilham\" as postagens das marcas-país que elas conhecem.</th>\n",
       "      <th>As pessoas, de modo geral, \"comentam\" as postagens das marcas-país que elas conhecem.</th>\n",
       "      <th>As pessoas, de modo geral, \"curtem\" as postagens das marcas-país que elas conhecem.</th>\n",
       "      <th>Os consumidores se sentem próximos de uma marca-país ao interagirem com ela nas redes sociais .</th>\n",
       "      <th>Interagir com as postagens de uma marca-país nas redes sociais faz com que os consumidores comprem mais vezes os produtos que possuem essa marca.</th>\n",
       "    </tr>\n",
       "  </thead>\n",
       "  <tbody>\n",
       "    <tr>\n",
       "      <th>0</th>\n",
       "      <td>7</td>\n",
       "      <td>7</td>\n",
       "      <td>7</td>\n",
       "      <td>7</td>\n",
       "      <td>7</td>\n",
       "    </tr>\n",
       "    <tr>\n",
       "      <th>1</th>\n",
       "      <td>5</td>\n",
       "      <td>5</td>\n",
       "      <td>5</td>\n",
       "      <td>6</td>\n",
       "      <td>7</td>\n",
       "    </tr>\n",
       "    <tr>\n",
       "      <th>2</th>\n",
       "      <td>3</td>\n",
       "      <td>6</td>\n",
       "      <td>6</td>\n",
       "      <td>7</td>\n",
       "      <td>6</td>\n",
       "    </tr>\n",
       "    <tr>\n",
       "      <th>3</th>\n",
       "      <td>7</td>\n",
       "      <td>6</td>\n",
       "      <td>6</td>\n",
       "      <td>5</td>\n",
       "      <td>5</td>\n",
       "    </tr>\n",
       "    <tr>\n",
       "      <th>4</th>\n",
       "      <td>7</td>\n",
       "      <td>6</td>\n",
       "      <td>6</td>\n",
       "      <td>5</td>\n",
       "      <td>5</td>\n",
       "    </tr>\n",
       "  </tbody>\n",
       "</table>\n",
       "</div>"
      ],
      "text/plain": [
       "   As pessoas, de modo geral, \"compartilham\" as postagens das marcas-país que elas conhecem.  \\\n",
       "0                                                  7                                           \n",
       "1                                                  5                                           \n",
       "2                                                  3                                           \n",
       "3                                                  7                                           \n",
       "4                                                  7                                           \n",
       "\n",
       "   As pessoas, de modo geral, \"comentam\" as postagens das marcas-país que elas conhecem.  \\\n",
       "0                                                  7                                       \n",
       "1                                                  5                                       \n",
       "2                                                  6                                       \n",
       "3                                                  6                                       \n",
       "4                                                  6                                       \n",
       "\n",
       "   As pessoas, de modo geral, \"curtem\" as postagens das marcas-país que elas conhecem.  \\\n",
       "0                                                  7                                     \n",
       "1                                                  5                                     \n",
       "2                                                  6                                     \n",
       "3                                                  6                                     \n",
       "4                                                  6                                     \n",
       "\n",
       "   Os consumidores se sentem próximos de uma marca-país ao interagirem com ela nas redes sociais .  \\\n",
       "0                                                  7                                                 \n",
       "1                                                  6                                                 \n",
       "2                                                  7                                                 \n",
       "3                                                  5                                                 \n",
       "4                                                  5                                                 \n",
       "\n",
       "   Interagir com as postagens de uma marca-país nas redes sociais faz com que os consumidores comprem mais vezes os produtos que possuem essa marca.  \n",
       "0                                                  7                                                                                                  \n",
       "1                                                  7                                                                                                  \n",
       "2                                                  6                                                                                                  \n",
       "3                                                  5                                                                                                  \n",
       "4                                                  5                                                                                                  "
      ]
     },
     "execution_count": 3,
     "metadata": {},
     "output_type": "execute_result"
    }
   ],
   "source": [
    "dados = dados.drop(columns=['Quantos anos você tem?', 'Eu sou uma pessoa que participa ativamente das redes sociais, seja postando, compartilhando, comentando ou “curtindo” publicações.', 'A reputação de uma marca-país influencia a minha decisão na hora de comprar um produto desenvolvido por essa nação.', 'A opinião de pessoas próximas a mim sobre uma marca-país influencia a minha decisão na hora de comprar um produto desenvolvido por essa nação.'])\n",
    "dados.head()\n"
   ]
  },
  {
   "cell_type": "code",
   "execution_count": 4,
   "metadata": {},
   "outputs": [],
   "source": [
    "dados = dados.rename(columns={'As pessoas, de modo geral, \"compartilham\" as postagens das marcas-país que elas conhecem.':'Q1', 'As pessoas, de modo geral, \"comentam\" as postagens das marcas-país que elas conhecem.':'Q2', 'As pessoas, de modo geral, \"curtem\" as postagens das marcas-país que elas conhecem.':'Q3', 'Os consumidores se sentem próximos de uma marca-país ao interagirem com ela nas redes sociais .':'Q4', 'Interagir com as postagens de uma marca-país nas redes sociais faz com que os consumidores comprem mais vezes os produtos que possuem essa marca.':'Q5'})"
   ]
  },
  {
   "cell_type": "code",
   "execution_count": 5,
   "metadata": {},
   "outputs": [],
   "source": [
    "dados_melt = dados[:]\n",
    "dados_melt = pd.melt(dados_melt.reset_index(), id_vars=['index'], value_vars=['Q1','Q2','Q3','Q4','Q5'])"
   ]
  },
  {
   "cell_type": "code",
   "execution_count": 6,
   "metadata": {},
   "outputs": [],
   "source": [
    "dados_melt.columns =['index','treatments','value']"
   ]
  },
  {
   "cell_type": "code",
   "execution_count": 8,
   "metadata": {
    "scrolled": true
   },
   "outputs": [
    {
     "name": "stderr",
     "output_type": "stream",
     "text": [
      "C:\\ProgramData\\Anaconda3\\lib\\site-packages\\seaborn\\categorical.py:1296: UserWarning: 89.3% of the points cannot be placed; you may want to decrease the size of the markers or use stripplot.\n",
      "  warnings.warn(msg, UserWarning)\n",
      "C:\\ProgramData\\Anaconda3\\lib\\site-packages\\seaborn\\categorical.py:1296: UserWarning: 89.6% of the points cannot be placed; you may want to decrease the size of the markers or use stripplot.\n",
      "  warnings.warn(msg, UserWarning)\n",
      "C:\\ProgramData\\Anaconda3\\lib\\site-packages\\seaborn\\categorical.py:1296: UserWarning: 91.9% of the points cannot be placed; you may want to decrease the size of the markers or use stripplot.\n",
      "  warnings.warn(msg, UserWarning)\n",
      "C:\\ProgramData\\Anaconda3\\lib\\site-packages\\seaborn\\categorical.py:1296: UserWarning: 91.4% of the points cannot be placed; you may want to decrease the size of the markers or use stripplot.\n",
      "  warnings.warn(msg, UserWarning)\n",
      "C:\\ProgramData\\Anaconda3\\lib\\site-packages\\seaborn\\categorical.py:1296: UserWarning: 90.0% of the points cannot be placed; you may want to decrease the size of the markers or use stripplot.\n",
      "  warnings.warn(msg, UserWarning)\n"
     ]
    },
    {
     "data": {
      "image/png": "[encoded data removed]",
      "text/plain": [
       "<Figure size 432x288 with 1 Axes>"
      ]
     },
     "metadata": {
      "needs_background": "light"
     },
     "output_type": "display_data"
    }
   ],
   "source": [
    "ax = sns.boxplot(x='treatments', y='value', data=dados_melt, color='#99c2a2')\n",
    "ax = sns.swarmplot(x=\"treatments\", y=\"value\", data=dados_melt, color='#7d0013')\n",
    "plt.show()"
   ]
  },
  {
   "cell_type": "code",
   "execution_count": 9,
   "metadata": {},
   "outputs": [
    {
     "name": "stdout",
     "output_type": "stream",
     "text": [
      "32.72874155996402 9.410805568232209e-27\n"
     ]
    }
   ],
   "source": [
    "fvalue, pvalue = stats.f_oneway(dados['Q1'], dados['Q2'], dados['Q3'],dados['Q4'],dados['Q5'])\n",
    "print(fvalue, pvalue)\n"
   ]
  },
  {
   "cell_type": "code",
   "execution_count": 12,
   "metadata": {},
   "outputs": [
    {
     "data": {
      "text/html": [
       "<div>\n",
       "<style scoped>\n",
       "    .dataframe tbody tr th:only-of-type {\n",
       "        vertical-align: middle;\n",
       "    }\n",
       "\n",
       "    .dataframe tbody tr th {\n",
       "        vertical-align: top;\n",
       "    }\n",
       "\n",
       "    .dataframe thead th {\n",
       "        text-align: right;\n",
       "    }\n",
       "</style>\n",
       "<table border=\"1\" class=\"dataframe\">\n",
       "  <thead>\n",
       "    <tr style=\"text-align: right;\">\n",
       "      <th></th>\n",
       "      <th>sum_sq</th>\n",
       "      <th>df</th>\n",
       "      <th>F</th>\n",
       "      <th>PR(&gt;F)</th>\n",
       "    </tr>\n",
       "  </thead>\n",
       "  <tbody>\n",
       "    <tr>\n",
       "      <th>C(treatments)</th>\n",
       "      <td>156.654366</td>\n",
       "      <td>4.0</td>\n",
       "      <td>32.728742</td>\n",
       "      <td>9.410806e-27</td>\n",
       "    </tr>\n",
       "    <tr>\n",
       "      <th>Residual</th>\n",
       "      <td>3625.733114</td>\n",
       "      <td>3030.0</td>\n",
       "      <td>NaN</td>\n",
       "      <td>NaN</td>\n",
       "    </tr>\n",
       "  </tbody>\n",
       "</table>\n",
       "</div>"
      ],
      "text/plain": [
       "                    sum_sq      df          F        PR(>F)\n",
       "C(treatments)   156.654366     4.0  32.728742  9.410806e-27\n",
       "Residual       3625.733114  3030.0        NaN           NaN"
      ]
     },
     "execution_count": 12,
     "metadata": {},
     "output_type": "execute_result"
    }
   ],
   "source": [
    "import statsmodels.api as sm\n",
    "model = ols('value ~ C(treatments)', data=dados_melt).fit()\n",
    "anova_table = sm.stats.anova_lm(model, typ=2)\n",
    "anova_table"
   ]
  },
  {
   "cell_type": "code",
   "execution_count": 15,
   "metadata": {},
   "outputs": [
    {
     "data": {
      "text/html": [
       "<div>\n",
       "<style scoped>\n",
       "    .dataframe tbody tr th:only-of-type {\n",
       "        vertical-align: middle;\n",
       "    }\n",
       "\n",
       "    .dataframe tbody tr th {\n",
       "        vertical-align: top;\n",
       "    }\n",
       "\n",
       "    .dataframe thead th {\n",
       "        text-align: right;\n",
       "    }\n",
       "</style>\n",
       "<table border=\"1\" class=\"dataframe\">\n",
       "  <thead>\n",
       "    <tr style=\"text-align: right;\">\n",
       "      <th></th>\n",
       "      <th>df</th>\n",
       "      <th>sum_sq</th>\n",
       "      <th>mean_sq</th>\n",
       "      <th>F</th>\n",
       "      <th>PR(&gt;F)</th>\n",
       "    </tr>\n",
       "  </thead>\n",
       "  <tbody>\n",
       "    <tr>\n",
       "      <th>C(treatments)</th>\n",
       "      <td>4.0</td>\n",
       "      <td>156.654366</td>\n",
       "      <td>39.163591</td>\n",
       "      <td>32.728742</td>\n",
       "      <td>9.410806e-27</td>\n",
       "    </tr>\n",
       "    <tr>\n",
       "      <th>Residual</th>\n",
       "      <td>3030.0</td>\n",
       "      <td>3625.733114</td>\n",
       "      <td>1.196612</td>\n",
       "      <td>NaN</td>\n",
       "      <td>NaN</td>\n",
       "    </tr>\n",
       "  </tbody>\n",
       "</table>\n",
       "</div>"
      ],
      "text/plain": [
       "                   df       sum_sq    mean_sq          F        PR(>F)\n",
       "C(treatments)     4.0   156.654366  39.163591  32.728742  9.410806e-27\n",
       "Residual       3030.0  3625.733114   1.196612        NaN           NaN"
      ]
     },
     "execution_count": 15,
     "metadata": {},
     "output_type": "execute_result"
    }
   ],
   "source": [
    "from bioinfokit.analys import stat\n",
    "res = stat()\n",
    "res.anova_stat(df=dados_melt, res_var='value', anova_model='value ~ C(treatments)')\n",
    "res.anova_summary"
   ]
  },
  {
   "cell_type": "code",
   "execution_count": 16,
   "metadata": {},
   "outputs": [
    {
     "data": {
      "text/html": [
       "<div>\n",
       "<style scoped>\n",
       "    .dataframe tbody tr th:only-of-type {\n",
       "        vertical-align: middle;\n",
       "    }\n",
       "\n",
       "    .dataframe tbody tr th {\n",
       "        vertical-align: top;\n",
       "    }\n",
       "\n",
       "    .dataframe thead th {\n",
       "        text-align: right;\n",
       "    }\n",
       "</style>\n",
       "<table border=\"1\" class=\"dataframe\">\n",
       "  <thead>\n",
       "    <tr style=\"text-align: right;\">\n",
       "      <th></th>\n",
       "      <th>group1</th>\n",
       "      <th>group2</th>\n",
       "      <th>Diff</th>\n",
       "      <th>Lower</th>\n",
       "      <th>Upper</th>\n",
       "      <th>q-value</th>\n",
       "      <th>p-value</th>\n",
       "    </tr>\n",
       "  </thead>\n",
       "  <tbody>\n",
       "    <tr>\n",
       "      <th>0</th>\n",
       "      <td>Q1</td>\n",
       "      <td>Q2</td>\n",
       "      <td>0.217463</td>\n",
       "      <td>0.046081</td>\n",
       "      <td>0.388845</td>\n",
       "      <td>4.897822</td>\n",
       "      <td>0.004908</td>\n",
       "    </tr>\n",
       "    <tr>\n",
       "      <th>1</th>\n",
       "      <td>Q1</td>\n",
       "      <td>Q3</td>\n",
       "      <td>0.614498</td>\n",
       "      <td>0.443116</td>\n",
       "      <td>0.785879</td>\n",
       "      <td>13.840057</td>\n",
       "      <td>0.001000</td>\n",
       "    </tr>\n",
       "    <tr>\n",
       "      <th>2</th>\n",
       "      <td>Q1</td>\n",
       "      <td>Q4</td>\n",
       "      <td>0.232290</td>\n",
       "      <td>0.060908</td>\n",
       "      <td>0.403672</td>\n",
       "      <td>5.231764</td>\n",
       "      <td>0.002052</td>\n",
       "    </tr>\n",
       "    <tr>\n",
       "      <th>3</th>\n",
       "      <td>Q1</td>\n",
       "      <td>Q5</td>\n",
       "      <td>0.545305</td>\n",
       "      <td>0.373923</td>\n",
       "      <td>0.716687</td>\n",
       "      <td>12.281659</td>\n",
       "      <td>0.001000</td>\n",
       "    </tr>\n",
       "    <tr>\n",
       "      <th>4</th>\n",
       "      <td>Q2</td>\n",
       "      <td>Q3</td>\n",
       "      <td>0.397035</td>\n",
       "      <td>0.225653</td>\n",
       "      <td>0.568416</td>\n",
       "      <td>8.942235</td>\n",
       "      <td>0.001000</td>\n",
       "    </tr>\n",
       "    <tr>\n",
       "      <th>5</th>\n",
       "      <td>Q2</td>\n",
       "      <td>Q4</td>\n",
       "      <td>0.014827</td>\n",
       "      <td>-0.156555</td>\n",
       "      <td>0.186209</td>\n",
       "      <td>0.333942</td>\n",
       "      <td>0.900000</td>\n",
       "    </tr>\n",
       "    <tr>\n",
       "      <th>6</th>\n",
       "      <td>Q2</td>\n",
       "      <td>Q5</td>\n",
       "      <td>0.327842</td>\n",
       "      <td>0.156460</td>\n",
       "      <td>0.499224</td>\n",
       "      <td>7.383837</td>\n",
       "      <td>0.001000</td>\n",
       "    </tr>\n",
       "    <tr>\n",
       "      <th>7</th>\n",
       "      <td>Q3</td>\n",
       "      <td>Q4</td>\n",
       "      <td>0.382208</td>\n",
       "      <td>0.210826</td>\n",
       "      <td>0.553589</td>\n",
       "      <td>8.608293</td>\n",
       "      <td>0.001000</td>\n",
       "    </tr>\n",
       "    <tr>\n",
       "      <th>8</th>\n",
       "      <td>Q3</td>\n",
       "      <td>Q5</td>\n",
       "      <td>0.069193</td>\n",
       "      <td>-0.102189</td>\n",
       "      <td>0.240575</td>\n",
       "      <td>1.558398</td>\n",
       "      <td>0.779958</td>\n",
       "    </tr>\n",
       "    <tr>\n",
       "      <th>9</th>\n",
       "      <td>Q4</td>\n",
       "      <td>Q5</td>\n",
       "      <td>0.313015</td>\n",
       "      <td>0.141633</td>\n",
       "      <td>0.484397</td>\n",
       "      <td>7.049895</td>\n",
       "      <td>0.001000</td>\n",
       "    </tr>\n",
       "  </tbody>\n",
       "</table>\n",
       "</div>"
      ],
      "text/plain": [
       "  group1 group2      Diff     Lower     Upper    q-value   p-value\n",
       "0     Q1     Q2  0.217463  0.046081  0.388845   4.897822  0.004908\n",
       "1     Q1     Q3  0.614498  0.443116  0.785879  13.840057  0.001000\n",
       "2     Q1     Q4  0.232290  0.060908  0.403672   5.231764  0.002052\n",
       "3     Q1     Q5  0.545305  0.373923  0.716687  12.281659  0.001000\n",
       "4     Q2     Q3  0.397035  0.225653  0.568416   8.942235  0.001000\n",
       "5     Q2     Q4  0.014827 -0.156555  0.186209   0.333942  0.900000\n",
       "6     Q2     Q5  0.327842  0.156460  0.499224   7.383837  0.001000\n",
       "7     Q3     Q4  0.382208  0.210826  0.553589   8.608293  0.001000\n",
       "8     Q3     Q5  0.069193 -0.102189  0.240575   1.558398  0.779958\n",
       "9     Q4     Q5  0.313015  0.141633  0.484397   7.049895  0.001000"
      ]
     },
     "execution_count": 16,
     "metadata": {},
     "output_type": "execute_result"
    }
   ],
   "source": [
    "from bioinfokit.analys import stat\n",
    "# perform multiple pairwise comparison (Tukey's HSD)\n",
    "# unequal sample size data, tukey_hsd uses Tukey-Kramer test\n",
    "res = stat()\n",
    "res.tukey_hsd(df=dados_melt, res_var='value', xfac_var='treatments', anova_model='value ~ C(treatments)')\n",
    "res.tukey_summary"
   ]
  },
  {
   "cell_type": "code",
   "execution_count": 17,
   "metadata": {},
   "outputs": [
    {
     "data": {
      "image/png": "[encoded data removed]",
      "text/plain": [
       "<Figure size 432x288 with 1 Axes>"
      ]
     },
     "metadata": {
      "needs_background": "light"
     },
     "output_type": "display_data"
    },
    {
     "data": {
      "image/png": "[encoded data removed]",
      "text/plain": [
       "<Figure size 432x288 with 1 Axes>"
      ]
     },
     "metadata": {
      "needs_background": "light"
     },
     "output_type": "display_data"
    }
   ],
   "source": [
    "sm.qqplot(res.anova_std_residuals, line='45')\n",
    "plt.xlabel(\"Theoretical Quantiles\")\n",
    "plt.ylabel(\"Standardized Residuals\")\n",
    "plt.show()\n",
    "\n",
    "\n",
    "plt.hist(res.anova_model_out.resid, bins='auto', histtype='bar', ec='k') \n",
    "plt.xlabel(\"Residuals\")\n",
    "plt.ylabel('Frequency')\n",
    "plt.show()"
   ]
  },
  {
   "cell_type": "code",
   "execution_count": 18,
   "metadata": {},
   "outputs": [
    {
     "name": "stdout",
     "output_type": "stream",
     "text": [
      "0.8653911352157593 2.802596928649634e-45\n"
     ]
    }
   ],
   "source": [
    "w, pvalue = stats.shapiro(model.resid)\n",
    "print(w, pvalue)\n"
   ]
  },
  {
   "cell_type": "code",
   "execution_count": 19,
   "metadata": {},
   "outputs": [
    {
     "name": "stdout",
     "output_type": "stream",
     "text": [
      "175.37771331018342 7.329637332445297e-37\n"
     ]
    }
   ],
   "source": [
    "w, pvalue = stats.bartlett(dados['Q1'], dados['Q2'], dados['Q3'],dados['Q4'],dados['Q5'])\n",
    "print(w, pvalue)"
   ]
  },
  {
   "cell_type": "code",
   "execution_count": 21,
   "metadata": {},
   "outputs": [
    {
     "data": {
      "text/html": [
       "<div>\n",
       "<style scoped>\n",
       "    .dataframe tbody tr th:only-of-type {\n",
       "        vertical-align: middle;\n",
       "    }\n",
       "\n",
       "    .dataframe tbody tr th {\n",
       "        vertical-align: top;\n",
       "    }\n",
       "\n",
       "    .dataframe thead th {\n",
       "        text-align: right;\n",
       "    }\n",
       "</style>\n",
       "<table border=\"1\" class=\"dataframe\">\n",
       "  <thead>\n",
       "    <tr style=\"text-align: right;\">\n",
       "      <th></th>\n",
       "      <th>Parameter</th>\n",
       "      <th>Value</th>\n",
       "    </tr>\n",
       "  </thead>\n",
       "  <tbody>\n",
       "    <tr>\n",
       "      <th>0</th>\n",
       "      <td>Test statistics (W)</td>\n",
       "      <td>25.8648</td>\n",
       "    </tr>\n",
       "    <tr>\n",
       "      <th>1</th>\n",
       "      <td>Degrees of freedom (Df)</td>\n",
       "      <td>4.0000</td>\n",
       "    </tr>\n",
       "    <tr>\n",
       "      <th>2</th>\n",
       "      <td>p value</td>\n",
       "      <td>0.0000</td>\n",
       "    </tr>\n",
       "  </tbody>\n",
       "</table>\n",
       "</div>"
      ],
      "text/plain": [
       "                 Parameter    Value\n",
       "0      Test statistics (W)  25.8648\n",
       "1  Degrees of freedom (Df)   4.0000\n",
       "2                  p value   0.0000"
      ]
     },
     "execution_count": 21,
     "metadata": {},
     "output_type": "execute_result"
    }
   ],
   "source": [
    "res = stat()\n",
    "res.levene(df=dados_melt, res_var='value', xfac_var='treatments')\n",
    "res.levene_summary"
   ]
  },
  {
   "cell_type": "code",
   "execution_count": null,
   "metadata": {},
   "outputs": [],
   "source": []
  }
 ],
 "metadata": {
  "kernelspec": {
   "display_name": "Python 3",
   "language": "python",
   "name": "python3"
  },
  "language_info": {
   "codemirror_mode": {
    "name": "ipython",
    "version": 3
   },
   "file_extension": ".py",
   "mimetype": "text/x-python",
   "name": "python",
   "nbconvert_exporter": "python",
   "pygments_lexer": "ipython3",
   "version": "3.8.5"
  }
 },
 "nbformat": 4,
 "nbformat_minor": 4
}
