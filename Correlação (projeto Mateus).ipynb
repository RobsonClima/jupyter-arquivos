{
 "cells": [
  {
   "cell_type": "code",
   "execution_count": 1,
   "metadata": {},
   "outputs": [],
   "source": [
    "import seaborn as sns\n",
    "import matplotlib.pyplot as plt\n",
    "import pandas as pd\n",
    "import scipy.stats as stats\n",
    "from statsmodels.formula.api import ols\n",
    "import numpy as np\n",
    "\n",
    "\n"
   ]
  },
  {
   "cell_type": "code",
   "execution_count": 2,
   "metadata": {},
   "outputs": [],
   "source": [
    "dados = []\n",
    "for c in range(0,16):\n",
    "    dados.append(pd.read_excel('C:\\\\Users\\\\User\\\\Desktop\\\\projeto Matheus\\\\hipoteses.xlsx',sheet_name=f'H{c+1}'))\n"
   ]
  },
  {
   "cell_type": "code",
   "execution_count": null,
   "metadata": {},
   "outputs": [],
   "source": [
    "print(list(dados[0].columns))"
   ]
  },
  {
   "cell_type": "code",
   "execution_count": 3,
   "metadata": {},
   "outputs": [],
   "source": [
    "for c in range(0, 16):\n",
    "    dados[c]= dados[c].drop(columns=['Quantos anos você tem?', 'Eu sou uma pessoa que participa ativamente das redes sociais, seja postando, compartilhando, comentando ou “curtindo” publicações.', 'A reputação de uma marca-país influencia a minha decisão na hora de comprar um produto desenvolvido por essa nação.', 'A opinião de pessoas próximas a mim sobre uma marca-país influencia a minha decisão na hora de comprar um produto desenvolvido por essa nação.'])"
   ]
  },
  {
   "cell_type": "code",
   "execution_count": null,
   "metadata": {},
   "outputs": [],
   "source": []
  },
  {
   "cell_type": "code",
   "execution_count": 11,
   "metadata": {},
   "outputs": [],
   "source": [
    "def limites(coluna):\n",
    "    q1 = coluna.quantile(0.25)\n",
    "    q3 = coluna.quantile(0.75)\n",
    "    amplitude = q3 - q1\n",
    "    return q1 - 1.5 * amplitude, q3 + 1.5 * amplitude\n",
    "def excluir_outliers(df, nome_coluna):\n",
    "    qtde_linhas = df.shape[0]\n",
    "    lim_inf, lim_sup = limites(df[nome_coluna])\n",
    "    df = df.loc[(df[nome_coluna] >= lim_inf) & (df[nome_coluna] <= lim_sup), :]\n",
    "    linhas_removidas = qtde_linhas - df.shape[0]\n",
    "    return df,  linhas_removidas"
   ]
  },
  {
   "cell_type": "code",
   "execution_count": 13,
   "metadata": {},
   "outputs": [
    {
     "ename": "KeyError",
     "evalue": "\"None of [Int64Index([7, 5, 3, 7, 7, 5, 7, 6, 6, 4,\\n            ...\\n            7, 7, 7, 7, 7, 7, 7, 7, 7, 7],\\n           dtype='int64', length=607)] are in the [columns]\"",
     "output_type": "error",
     "traceback": [
      "\u001b[1;31m---------------------------------------------------------------------------\u001b[0m",
      "\u001b[1;31mKeyError\u001b[0m                                  Traceback (most recent call last)",
      "\u001b[1;32m<ipython-input-13-97e63af5b783>\u001b[0m in \u001b[0;36m<module>\u001b[1;34m\u001b[0m\n\u001b[0;32m      1\u001b[0m \u001b[1;32mfor\u001b[0m \u001b[0mc\u001b[0m \u001b[1;32min\u001b[0m \u001b[0mrange\u001b[0m\u001b[1;33m(\u001b[0m\u001b[1;36m0\u001b[0m\u001b[1;33m,\u001b[0m\u001b[1;36m5\u001b[0m\u001b[1;33m)\u001b[0m\u001b[1;33m:\u001b[0m\u001b[1;33m\u001b[0m\u001b[1;33m\u001b[0m\u001b[0m\n\u001b[0;32m      2\u001b[0m     \u001b[1;32mfor\u001b[0m \u001b[0mn\u001b[0m \u001b[1;32min\u001b[0m \u001b[0mdados\u001b[0m\u001b[1;33m[\u001b[0m\u001b[0mc\u001b[0m\u001b[1;33m]\u001b[0m\u001b[1;33m:\u001b[0m\u001b[1;33m\u001b[0m\u001b[1;33m\u001b[0m\u001b[0m\n\u001b[1;32m----> 3\u001b[1;33m         \u001b[0mdados\u001b[0m\u001b[1;33m,\u001b[0m \u001b[0mlinhas_removidas\u001b[0m \u001b[1;33m=\u001b[0m \u001b[0mexcluir_outliers\u001b[0m\u001b[1;33m(\u001b[0m\u001b[0mdados\u001b[0m\u001b[1;33m[\u001b[0m\u001b[0mc\u001b[0m\u001b[1;33m]\u001b[0m\u001b[1;33m,\u001b[0m\u001b[0mdados\u001b[0m\u001b[1;33m[\u001b[0m\u001b[0mc\u001b[0m\u001b[1;33m]\u001b[0m\u001b[1;33m[\u001b[0m\u001b[0mn\u001b[0m\u001b[1;33m]\u001b[0m\u001b[1;33m.\u001b[0m\u001b[0mvalues\u001b[0m\u001b[1;33m)\u001b[0m\u001b[1;33m\u001b[0m\u001b[1;33m\u001b[0m\u001b[0m\n\u001b[0m\u001b[0;32m      4\u001b[0m         \u001b[0mprint\u001b[0m\u001b[1;33m(\u001b[0m\u001b[1;34m'{} linhas removidas'\u001b[0m\u001b[1;33m.\u001b[0m\u001b[0mformat\u001b[0m\u001b[1;33m(\u001b[0m\u001b[0mlinhas_removidas\u001b[0m\u001b[1;33m)\u001b[0m\u001b[1;33m)\u001b[0m\u001b[1;33m\u001b[0m\u001b[1;33m\u001b[0m\u001b[0m\n",
      "\u001b[1;32m<ipython-input-11-19dbf69d1be5>\u001b[0m in \u001b[0;36mexcluir_outliers\u001b[1;34m(df, nome_coluna)\u001b[0m\n\u001b[0;32m      6\u001b[0m \u001b[1;32mdef\u001b[0m \u001b[0mexcluir_outliers\u001b[0m\u001b[1;33m(\u001b[0m\u001b[0mdf\u001b[0m\u001b[1;33m,\u001b[0m \u001b[0mnome_coluna\u001b[0m\u001b[1;33m)\u001b[0m\u001b[1;33m:\u001b[0m\u001b[1;33m\u001b[0m\u001b[1;33m\u001b[0m\u001b[0m\n\u001b[0;32m      7\u001b[0m     \u001b[0mqtde_linhas\u001b[0m \u001b[1;33m=\u001b[0m \u001b[0mdf\u001b[0m\u001b[1;33m.\u001b[0m\u001b[0mshape\u001b[0m\u001b[1;33m[\u001b[0m\u001b[1;36m0\u001b[0m\u001b[1;33m]\u001b[0m\u001b[1;33m\u001b[0m\u001b[1;33m\u001b[0m\u001b[0m\n\u001b[1;32m----> 8\u001b[1;33m     \u001b[0mlim_inf\u001b[0m\u001b[1;33m,\u001b[0m \u001b[0mlim_sup\u001b[0m \u001b[1;33m=\u001b[0m \u001b[0mlimites\u001b[0m\u001b[1;33m(\u001b[0m\u001b[0mdf\u001b[0m\u001b[1;33m[\u001b[0m\u001b[0mnome_coluna\u001b[0m\u001b[1;33m]\u001b[0m\u001b[1;33m)\u001b[0m\u001b[1;33m\u001b[0m\u001b[1;33m\u001b[0m\u001b[0m\n\u001b[0m\u001b[0;32m      9\u001b[0m     \u001b[0mdf\u001b[0m \u001b[1;33m=\u001b[0m \u001b[0mdf\u001b[0m\u001b[1;33m.\u001b[0m\u001b[0mloc\u001b[0m\u001b[1;33m[\u001b[0m\u001b[1;33m(\u001b[0m\u001b[0mdf\u001b[0m\u001b[1;33m[\u001b[0m\u001b[0mnome_coluna\u001b[0m\u001b[1;33m]\u001b[0m \u001b[1;33m>=\u001b[0m \u001b[0mlim_inf\u001b[0m\u001b[1;33m)\u001b[0m \u001b[1;33m&\u001b[0m \u001b[1;33m(\u001b[0m\u001b[0mdf\u001b[0m\u001b[1;33m[\u001b[0m\u001b[0mnome_coluna\u001b[0m\u001b[1;33m]\u001b[0m \u001b[1;33m<=\u001b[0m \u001b[0mlim_sup\u001b[0m\u001b[1;33m)\u001b[0m\u001b[1;33m,\u001b[0m \u001b[1;33m:\u001b[0m\u001b[1;33m]\u001b[0m\u001b[1;33m\u001b[0m\u001b[1;33m\u001b[0m\u001b[0m\n\u001b[0;32m     10\u001b[0m     \u001b[0mlinhas_removidas\u001b[0m \u001b[1;33m=\u001b[0m \u001b[0mqtde_linhas\u001b[0m \u001b[1;33m-\u001b[0m \u001b[0mdf\u001b[0m\u001b[1;33m.\u001b[0m\u001b[0mshape\u001b[0m\u001b[1;33m[\u001b[0m\u001b[1;36m0\u001b[0m\u001b[1;33m]\u001b[0m\u001b[1;33m\u001b[0m\u001b[1;33m\u001b[0m\u001b[0m\n",
      "\u001b[1;32mC:\\ProgramData\\Anaconda3\\lib\\site-packages\\pandas\\core\\frame.py\u001b[0m in \u001b[0;36m__getitem__\u001b[1;34m(self, key)\u001b[0m\n\u001b[0;32m   2906\u001b[0m             \u001b[1;32mif\u001b[0m \u001b[0mis_iterator\u001b[0m\u001b[1;33m(\u001b[0m\u001b[0mkey\u001b[0m\u001b[1;33m)\u001b[0m\u001b[1;33m:\u001b[0m\u001b[1;33m\u001b[0m\u001b[1;33m\u001b[0m\u001b[0m\n\u001b[0;32m   2907\u001b[0m                 \u001b[0mkey\u001b[0m \u001b[1;33m=\u001b[0m \u001b[0mlist\u001b[0m\u001b[1;33m(\u001b[0m\u001b[0mkey\u001b[0m\u001b[1;33m)\u001b[0m\u001b[1;33m\u001b[0m\u001b[1;33m\u001b[0m\u001b[0m\n\u001b[1;32m-> 2908\u001b[1;33m             \u001b[0mindexer\u001b[0m \u001b[1;33m=\u001b[0m \u001b[0mself\u001b[0m\u001b[1;33m.\u001b[0m\u001b[0mloc\u001b[0m\u001b[1;33m.\u001b[0m\u001b[0m_get_listlike_indexer\u001b[0m\u001b[1;33m(\u001b[0m\u001b[0mkey\u001b[0m\u001b[1;33m,\u001b[0m \u001b[0maxis\u001b[0m\u001b[1;33m=\u001b[0m\u001b[1;36m1\u001b[0m\u001b[1;33m,\u001b[0m \u001b[0mraise_missing\u001b[0m\u001b[1;33m=\u001b[0m\u001b[1;32mTrue\u001b[0m\u001b[1;33m)\u001b[0m\u001b[1;33m[\u001b[0m\u001b[1;36m1\u001b[0m\u001b[1;33m]\u001b[0m\u001b[1;33m\u001b[0m\u001b[1;33m\u001b[0m\u001b[0m\n\u001b[0m\u001b[0;32m   2909\u001b[0m \u001b[1;33m\u001b[0m\u001b[0m\n\u001b[0;32m   2910\u001b[0m         \u001b[1;31m# take() does not accept boolean indexers\u001b[0m\u001b[1;33m\u001b[0m\u001b[1;33m\u001b[0m\u001b[1;33m\u001b[0m\u001b[0m\n",
      "\u001b[1;32mC:\\ProgramData\\Anaconda3\\lib\\site-packages\\pandas\\core\\indexing.py\u001b[0m in \u001b[0;36m_get_listlike_indexer\u001b[1;34m(self, key, axis, raise_missing)\u001b[0m\n\u001b[0;32m   1252\u001b[0m             \u001b[0mkeyarr\u001b[0m\u001b[1;33m,\u001b[0m \u001b[0mindexer\u001b[0m\u001b[1;33m,\u001b[0m \u001b[0mnew_indexer\u001b[0m \u001b[1;33m=\u001b[0m \u001b[0max\u001b[0m\u001b[1;33m.\u001b[0m\u001b[0m_reindex_non_unique\u001b[0m\u001b[1;33m(\u001b[0m\u001b[0mkeyarr\u001b[0m\u001b[1;33m)\u001b[0m\u001b[1;33m\u001b[0m\u001b[1;33m\u001b[0m\u001b[0m\n\u001b[0;32m   1253\u001b[0m \u001b[1;33m\u001b[0m\u001b[0m\n\u001b[1;32m-> 1254\u001b[1;33m         \u001b[0mself\u001b[0m\u001b[1;33m.\u001b[0m\u001b[0m_validate_read_indexer\u001b[0m\u001b[1;33m(\u001b[0m\u001b[0mkeyarr\u001b[0m\u001b[1;33m,\u001b[0m \u001b[0mindexer\u001b[0m\u001b[1;33m,\u001b[0m \u001b[0maxis\u001b[0m\u001b[1;33m,\u001b[0m \u001b[0mraise_missing\u001b[0m\u001b[1;33m=\u001b[0m\u001b[0mraise_missing\u001b[0m\u001b[1;33m)\u001b[0m\u001b[1;33m\u001b[0m\u001b[1;33m\u001b[0m\u001b[0m\n\u001b[0m\u001b[0;32m   1255\u001b[0m         \u001b[1;32mreturn\u001b[0m \u001b[0mkeyarr\u001b[0m\u001b[1;33m,\u001b[0m \u001b[0mindexer\u001b[0m\u001b[1;33m\u001b[0m\u001b[1;33m\u001b[0m\u001b[0m\n\u001b[0;32m   1256\u001b[0m \u001b[1;33m\u001b[0m\u001b[0m\n",
      "\u001b[1;32mC:\\ProgramData\\Anaconda3\\lib\\site-packages\\pandas\\core\\indexing.py\u001b[0m in \u001b[0;36m_validate_read_indexer\u001b[1;34m(self, key, indexer, axis, raise_missing)\u001b[0m\n\u001b[0;32m   1296\u001b[0m             \u001b[1;32mif\u001b[0m \u001b[0mmissing\u001b[0m \u001b[1;33m==\u001b[0m \u001b[0mlen\u001b[0m\u001b[1;33m(\u001b[0m\u001b[0mindexer\u001b[0m\u001b[1;33m)\u001b[0m\u001b[1;33m:\u001b[0m\u001b[1;33m\u001b[0m\u001b[1;33m\u001b[0m\u001b[0m\n\u001b[0;32m   1297\u001b[0m                 \u001b[0maxis_name\u001b[0m \u001b[1;33m=\u001b[0m \u001b[0mself\u001b[0m\u001b[1;33m.\u001b[0m\u001b[0mobj\u001b[0m\u001b[1;33m.\u001b[0m\u001b[0m_get_axis_name\u001b[0m\u001b[1;33m(\u001b[0m\u001b[0maxis\u001b[0m\u001b[1;33m)\u001b[0m\u001b[1;33m\u001b[0m\u001b[1;33m\u001b[0m\u001b[0m\n\u001b[1;32m-> 1298\u001b[1;33m                 \u001b[1;32mraise\u001b[0m \u001b[0mKeyError\u001b[0m\u001b[1;33m(\u001b[0m\u001b[1;34mf\"None of [{key}] are in the [{axis_name}]\"\u001b[0m\u001b[1;33m)\u001b[0m\u001b[1;33m\u001b[0m\u001b[1;33m\u001b[0m\u001b[0m\n\u001b[0m\u001b[0;32m   1299\u001b[0m \u001b[1;33m\u001b[0m\u001b[0m\n\u001b[0;32m   1300\u001b[0m             \u001b[1;31m# We (temporarily) allow for some missing keys with .loc, except in\u001b[0m\u001b[1;33m\u001b[0m\u001b[1;33m\u001b[0m\u001b[1;33m\u001b[0m\u001b[0m\n",
      "\u001b[1;31mKeyError\u001b[0m: \"None of [Int64Index([7, 5, 3, 7, 7, 5, 7, 6, 6, 4,\\n            ...\\n            7, 7, 7, 7, 7, 7, 7, 7, 7, 7],\\n           dtype='int64', length=607)] are in the [columns]\""
     ]
    }
   ],
   "source": [
    "for c in range(0,5):\n",
    "    for n in dados[c]:\n",
    "        dados, linhas_removidas = excluir_outliers(dados[c],dados[c][n].values)\n",
    "        print('{} linhas removidas'.format(linhas_removidas))"
   ]
  },
  {
   "cell_type": "code",
   "execution_count": 10,
   "metadata": {},
   "outputs": [
    {
     "name": "stdout",
     "output_type": "stream",
     "text": [
      "H1\n",
      "------------------------------\n",
      "O valor do teste de shapiro - wilk = 0.8325343728065491\n",
      "O P_valor do teste foi =1.0016577121261902e-24\n",
      "O valor do teste de shapiro - wilk = 0.791079044342041\n",
      "O P_valor do teste foi =3.475610985210959e-27\n",
      "O valor do teste de shapiro - wilk = 0.7173880338668823\n",
      "O P_valor do teste foi =9.572817861458104e-31\n",
      "O valor do teste de shapiro - wilk = 0.8014316558837891\n",
      "O P_valor do teste foi =1.3097291209037264e-26\n",
      "O valor do teste de shapiro - wilk = 0.6416887640953064\n",
      "O P_valor do teste foi =1.0526503238800621e-33\n",
      "H2\n",
      "------------------------------\n",
      "O valor do teste de shapiro - wilk = 0.7355316281318665\n",
      "O P_valor do teste foi =6.063537651598011e-30\n",
      "O valor do teste de shapiro - wilk = 0.7255458235740662\n",
      "O P_valor do teste foi =2.1692599081147952e-30\n",
      "O valor do teste de shapiro - wilk = 0.7432432174682617\n",
      "O P_valor do teste foi =1.369839189194019e-29\n",
      "H3\n",
      "------------------------------\n",
      "O valor do teste de shapiro - wilk = 0.7251125574111938\n",
      "O P_valor do teste foi =2.0760215769985327e-30\n",
      "O valor do teste de shapiro - wilk = 0.7324714660644531\n",
      "O P_valor do teste foi =4.410914093437976e-30\n",
      "H4\n",
      "------------------------------\n",
      "O valor do teste de shapiro - wilk = 0.821806788444519\n",
      "O P_valor do teste foi =2.102427957688155e-25\n",
      "O valor do teste de shapiro - wilk = 0.6969237327575684\n",
      "O P_valor do teste foi =1.3314244993049095e-31\n",
      "O valor do teste de shapiro - wilk = 0.7879456281661987\n",
      "O P_valor do teste foi =2.349803628801545e-27\n",
      "H5\n",
      "------------------------------\n",
      "O valor do teste de shapiro - wilk = 0.7692691683769226\n",
      "O P_valor do teste foi =2.4917221804707835e-28\n",
      "O valor do teste de shapiro - wilk = 0.7801893949508667\n",
      "O P_valor do teste foi =9.088361333276313e-28\n",
      "O valor do teste de shapiro - wilk = 0.8024623394012451\n",
      "O P_valor do teste foi =1.499023228459308e-26\n",
      "H6\n",
      "------------------------------\n",
      "O valor do teste de shapiro - wilk = 0.7178598642349243\n",
      "O P_valor do teste foi =1.0031458141329734e-30\n",
      "O valor do teste de shapiro - wilk = 0.6569249629974365\n",
      "O P_valor do teste foi =3.755686083777977e-33\n",
      "O valor do teste de shapiro - wilk = 0.6502224206924438\n",
      "O P_valor do teste foi =2.134579089632238e-33\n",
      "H7\n",
      "------------------------------\n",
      "O valor do teste de shapiro - wilk = 0.7515692710876465\n",
      "O P_valor do teste foi =3.375445607696939e-29\n",
      "O valor do teste de shapiro - wilk = 0.7577344179153442\n",
      "O P_valor do teste foi =6.684325659837887e-29\n",
      "O valor do teste de shapiro - wilk = 0.6471827030181885\n",
      "O P_valor do teste foi =1.656774798827549e-33\n",
      "H8\n",
      "------------------------------\n",
      "O valor do teste de shapiro - wilk = 0.7500721216201782\n",
      "O P_valor do teste foi =2.8651873208185545e-29\n",
      "O valor do teste de shapiro - wilk = 0.7322978377342224\n",
      "O P_valor do teste foi =4.332340665605284e-30\n",
      "O valor do teste de shapiro - wilk = 0.7964432239532471\n",
      "O P_valor do teste foi =6.86641248976286e-27\n",
      "O valor do teste de shapiro - wilk = 0.8235259652137756\n",
      "O P_valor do teste foi =2.686737969742457e-25\n",
      "H9\n",
      "------------------------------\n",
      "O valor do teste de shapiro - wilk = 0.7964432239532471\n",
      "O P_valor do teste foi =6.86641248976286e-27\n",
      "O valor do teste de shapiro - wilk = 0.8235259652137756\n",
      "O P_valor do teste foi =2.686737969742457e-25\n",
      "O valor do teste de shapiro - wilk = 0.8235584497451782\n",
      "O P_valor do teste foi =2.6992631087651036e-25\n",
      "H10\n",
      "------------------------------\n",
      "O valor do teste de shapiro - wilk = 0.8042934536933899\n",
      "O P_valor do teste foi =1.9078973852807404e-26\n",
      "O valor do teste de shapiro - wilk = 0.8258816003799438\n",
      "O P_valor do teste foi =3.7710230931451787e-25\n",
      "O valor do teste de shapiro - wilk = 0.7853490710258484\n",
      "O P_valor do teste foi =1.70464656415997e-27\n",
      "H11\n",
      "------------------------------\n",
      "O valor do teste de shapiro - wilk = 0.7269679307937622\n",
      "O P_valor do teste foi =2.5066333695691563e-30\n",
      "O valor do teste de shapiro - wilk = 0.793609619140625\n",
      "O P_valor do teste foi =4.783903285338975e-27\n",
      "O valor do teste de shapiro - wilk = 0.7734371423721313\n",
      "O P_valor do teste foi =4.05969421131059e-28\n",
      "H12\n",
      "------------------------------\n",
      "O valor do teste de shapiro - wilk = 0.7732055187225342\n",
      "O P_valor do teste foi =3.950277797827576e-28\n",
      "O valor do teste de shapiro - wilk = 0.6508150100708008\n",
      "O P_valor do teste foi =2.2431304828009068e-33\n",
      "O valor do teste de shapiro - wilk = 0.7735152244567871\n",
      "O P_valor do teste foi =4.097289808272487e-28\n",
      "H13\n",
      "------------------------------\n",
      "O valor do teste de shapiro - wilk = 0.7520380616188049\n",
      "O P_valor do teste foi =3.55380116502178e-29\n",
      "O valor do teste de shapiro - wilk = 0.7272542119026184\n",
      "O P_valor do teste foi =2.5808339584167895e-30\n",
      "O valor do teste de shapiro - wilk = 0.7359731197357178\n",
      "O P_valor do teste foi =6.349867762915938e-30\n",
      "H14\n",
      "------------------------------\n",
      "O valor do teste de shapiro - wilk = 0.6747188568115234\n",
      "O P_valor do teste foi =1.7588754463408896e-32\n",
      "O valor do teste de shapiro - wilk = 0.7301317453384399\n",
      "O P_valor do teste foi =3.464951471534652e-30\n",
      "O valor do teste de shapiro - wilk = 0.7768835425376892\n",
      "O P_valor do teste foi =6.110790342783552e-28\n",
      "H15\n",
      "------------------------------\n",
      "O valor do teste de shapiro - wilk = 0.7238020300865173\n",
      "O P_valor do teste foi =1.818314471004484e-30\n",
      "O valor do teste de shapiro - wilk = 0.7186334133148193\n",
      "O P_valor do teste foi =1.0833003288872955e-30\n",
      "O valor do teste de shapiro - wilk = 0.7398777008056641\n",
      "O P_valor do teste foi =9.575929065866312e-30\n",
      "H16\n",
      "------------------------------\n",
      "O valor do teste de shapiro - wilk = 0.7204671502113342\n",
      "O P_valor do teste foi =1.3006697349758148e-30\n",
      "O valor do teste de shapiro - wilk = 0.6894596815109253\n",
      "O P_valor do teste foi =6.656746338332284e-32\n",
      "O valor do teste de shapiro - wilk = 0.6685671806335449\n",
      "O P_valor do teste foi =1.0237046020105287e-32\n"
     ]
    }
   ],
   "source": [
    "for c in range(0,16):\n",
    "    print(f'H{c+1}')\n",
    "    print('-'*30)\n",
    "    for n in dados[c]:\n",
    "        shapiro_stat, shapiro_p_valor = stats.shapiro(dados[c][n])\n",
    "        print('O valor do teste de shapiro - wilk = ' + str(shapiro_stat))\n",
    "        print('O P_valor do teste foi =' + str(shapiro_p_valor))\n",
    "\n",
    "    "
   ]
  },
  {
   "cell_type": "code",
   "execution_count": null,
   "metadata": {},
   "outputs": [],
   "source": [
    "for n in range(0,16):\n",
    "    plt.figure(figsize=(10, 10))\n",
    "    sns.heatmap(dados[n].corr(method='spearman'), annot=True, cmap='Greens', square=True)\n",
    "    "
   ]
  },
  {
   "cell_type": "code",
   "execution_count": null,
   "metadata": {},
   "outputs": [],
   "source": [
    "def corr_sig(df=None):\n",
    "    p_matrix = np.zeros(shape=(df.shape[1],df.shape[1]))\n",
    "    for col in df.columns:\n",
    "        for col2 in df.drop(col,axis=1).columns:\n",
    "            _ , p = stats.spearmanr(df[col],df[col2])\n",
    "            p_matrix[df.columns.to_list().index(col),df.columns.to_list().index(col2)] = p\n",
    "    return p_matrix"
   ]
  },
  {
   "cell_type": "code",
   "execution_count": null,
   "metadata": {
    "scrolled": true
   },
   "outputs": [],
   "source": [
    "for c in range(0,16):\n",
    "    p_value = corr_sig(dados[c])\n",
    "    print(p_value)\n",
    "    print('-'*30)"
   ]
  },
  {
   "cell_type": "code",
   "execution_count": null,
   "metadata": {},
   "outputs": [],
   "source": [
    "genx = []  \n",
    "for c in range(0,16):\n",
    "    dados1 = dados[c][:] \n",
    "    mask = dados1['Quantos anos você tem?'] >= 26\n",
    "    genx.append(dados1[mask].loc[dados[c]['Quantos anos você tem?'] >= 26])\n",
    "        "
   ]
  },
  {
   "cell_type": "code",
   "execution_count": null,
   "metadata": {},
   "outputs": [],
   "source": [
    "centennials = []\n",
    "for c in range(0,16):\n",
    "    dados2 = dados[c][:] \n",
    "    mask = dados2['Quantos anos você tem?'] < 26\n",
    "    centennials.append(dados2[mask].loc[dados[c]['Quantos anos você tem?'] < 26])"
   ]
  },
  {
   "cell_type": "code",
   "execution_count": null,
   "metadata": {},
   "outputs": [],
   "source": [
    "for n in range(0,16):\n",
    "    plt.figure(figsize=(10, 10))\n",
    "    sns.heatmap(genx[n].corr(method='spearman'), annot=True, cmap='Reds', square=True)"
   ]
  },
  {
   "cell_type": "code",
   "execution_count": null,
   "metadata": {},
   "outputs": [],
   "source": [
    "for c in range(0,16):\n",
    "    p_value = corr_sig(genx[c])\n",
    "    print(p_value)\n",
    "    print('-'*30)"
   ]
  },
  {
   "cell_type": "code",
   "execution_count": null,
   "metadata": {},
   "outputs": [],
   "source": [
    "for n in range(0,16):\n",
    "    plt.figure(figsize=(10, 10))\n",
    "    sns.heatmap(centennials[n].corr(method='spearman'), annot=True, cmap='Blues', square=True)\n"
   ]
  },
  {
   "cell_type": "code",
   "execution_count": null,
   "metadata": {},
   "outputs": [],
   "source": [
    "for c in range(0,16):\n",
    "    p_value = corr_sig(centennials[c])\n",
    "    print(p_value)\n",
    "    print('-'*30)"
   ]
  },
  {
   "cell_type": "code",
   "execution_count": null,
   "metadata": {},
   "outputs": [],
   "source": []
  }
 ],
 "metadata": {
  "kernelspec": {
   "display_name": "Python 3",
   "language": "python",
   "name": "python3"
  },
  "language_info": {
   "codemirror_mode": {
    "name": "ipython",
    "version": 3
   },
   "file_extension": ".py",
   "mimetype": "text/x-python",
   "name": "python",
   "nbconvert_exporter": "python",
   "pygments_lexer": "ipython3",
   "version": "3.8.5"
  }
 },
 "nbformat": 4,
 "nbformat_minor": 4
}
