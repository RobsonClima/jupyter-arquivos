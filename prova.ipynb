{
 "cells": [
  {
   "cell_type": "code",
   "execution_count": 1,
   "metadata": {},
   "outputs": [],
   "source": [
    "import statistics\n",
    "from math import factorial\n",
    "from scipy import stats\n",
    "import numpy\n",
    "import pandas as pd\n",
    "import seaborn as sns\n",
    "import matplotlib.pyplot as plt"
   ]
  },
  {
   "cell_type": "code",
   "execution_count": 58,
   "metadata": {},
   "outputs": [
    {
     "data": {
      "text/html": [
       "<div>\n",
       "<style scoped>\n",
       "    .dataframe tbody tr th:only-of-type {\n",
       "        vertical-align: middle;\n",
       "    }\n",
       "\n",
       "    .dataframe tbody tr th {\n",
       "        vertical-align: top;\n",
       "    }\n",
       "\n",
       "    .dataframe thead th {\n",
       "        text-align: right;\n",
       "    }\n",
       "</style>\n",
       "<table border=\"1\" class=\"dataframe\">\n",
       "  <thead>\n",
       "    <tr style=\"text-align: right;\">\n",
       "      <th></th>\n",
       "      <th>x</th>\n",
       "      <th>y</th>\n",
       "      <th>fx</th>\n",
       "      <th>fy</th>\n",
       "      <th>Unnamed: 4</th>\n",
       "      <th>Unnamed: 5</th>\n",
       "      <th>Unnamed: 6</th>\n",
       "    </tr>\n",
       "  </thead>\n",
       "  <tbody>\n",
       "    <tr>\n",
       "      <th>0</th>\n",
       "      <td>1.55</td>\n",
       "      <td>20.0</td>\n",
       "      <td>1.55</td>\n",
       "      <td>31.00</td>\n",
       "      <td>0.11</td>\n",
       "      <td>0.0121</td>\n",
       "      <td>0.242</td>\n",
       "    </tr>\n",
       "    <tr>\n",
       "      <th>1</th>\n",
       "      <td>1.55</td>\n",
       "      <td>50.0</td>\n",
       "      <td>1.65</td>\n",
       "      <td>82.50</td>\n",
       "      <td>0.01</td>\n",
       "      <td>0.0001</td>\n",
       "      <td>0.005</td>\n",
       "    </tr>\n",
       "    <tr>\n",
       "      <th>2</th>\n",
       "      <td>1.65</td>\n",
       "      <td>30.0</td>\n",
       "      <td>1.75</td>\n",
       "      <td>52.50</td>\n",
       "      <td>-0.09</td>\n",
       "      <td>0.0081</td>\n",
       "      <td>0.243</td>\n",
       "    </tr>\n",
       "    <tr>\n",
       "      <th>3</th>\n",
       "      <td>1.65</td>\n",
       "      <td>100.0</td>\n",
       "      <td>NaN</td>\n",
       "      <td>166.00</td>\n",
       "      <td>NaN</td>\n",
       "      <td>NaN</td>\n",
       "      <td>0.490</td>\n",
       "    </tr>\n",
       "    <tr>\n",
       "      <th>4</th>\n",
       "      <td>1.65</td>\n",
       "      <td>NaN</td>\n",
       "      <td>NaN</td>\n",
       "      <td>1.66</td>\n",
       "      <td>NaN</td>\n",
       "      <td>NaN</td>\n",
       "      <td>NaN</td>\n",
       "    </tr>\n",
       "  </tbody>\n",
       "</table>\n",
       "</div>"
      ],
      "text/plain": [
       "      x      y    fx      fy  Unnamed: 4  Unnamed: 5  Unnamed: 6\n",
       "0  1.55   20.0  1.55   31.00        0.11      0.0121       0.242\n",
       "1  1.55   50.0  1.65   82.50        0.01      0.0001       0.005\n",
       "2  1.65   30.0  1.75   52.50       -0.09      0.0081       0.243\n",
       "3  1.65  100.0   NaN  166.00         NaN         NaN       0.490\n",
       "4  1.65    NaN   NaN    1.66         NaN         NaN         NaN"
      ]
     },
     "execution_count": 58,
     "metadata": {},
     "output_type": "execute_result"
    }
   ],
   "source": [
    "dados = pd.read_excel('C:/Users/User/Desktop/Curso python/dados.xlsx')\n",
    "dados.head()"
   ]
  },
  {
   "cell_type": "code",
   "execution_count": 59,
   "metadata": {},
   "outputs": [],
   "source": [
    "x = dados['x'].values\n",
    "y = dados['y'].values\n",
    "fx = dados['fx'].values\n",
    "fy = dados['fy'].values"
   ]
  },
  {
   "cell_type": "code",
   "execution_count": 14,
   "metadata": {},
   "outputs": [
    {
     "data": {
      "text/plain": [
       "<AxesSubplot:>"
      ]
     },
     "execution_count": 14,
     "metadata": {},
     "output_type": "execute_result"
    },
    {
     "data": {
      "image/png": "[encoded data removed]",
      "text/plain": [
       "<Figure size 720x720 with 2 Axes>"
      ]
     },
     "metadata": {
      "needs_background": "light"
     },
     "output_type": "display_data"
    }
   ],
   "source": [
    "#correlação\n",
    "plt.figure(figsize=(10, 10))\n",
    "sns.heatmap(dados.corr(method='pearson'), annot=True, cmap='Greens', square=True)"
   ]
  },
  {
   "cell_type": "code",
   "execution_count": 61,
   "metadata": {},
   "outputs": [
    {
     "name": "stdout",
     "output_type": "stream",
     "text": [
      "1.66\n",
      "1.65\n",
      "1.65\n",
      "0.07378647873726218\n",
      "0.005444444444444444\n",
      "0.04444968598630252\n"
     ]
    }
   ],
   "source": [
    "#medidas de tendencia central\n",
    "print(statistics.mean(x))\n",
    "print(statistics.median(x))\n",
    "print(statistics.mode(x))\n",
    "print(statistics.stdev(x))\n",
    "print(statistics.variance(x))\n",
    "print(statistics.stdev(x)/statistics.mean(x))"
   ]
  },
  {
   "cell_type": "code",
   "execution_count": 23,
   "metadata": {},
   "outputs": [
    {
     "name": "stdout",
     "output_type": "stream",
     "text": [
      "-0.7819476288162189\n"
     ]
    }
   ],
   "source": [
    "a = 3*(794.4 - 816)/82.87\n",
    "print(a)"
   ]
  },
  {
   "cell_type": "code",
   "execution_count": 17,
   "metadata": {},
   "outputs": [],
   "source": [
    "def amplitude(x=None):\n",
    "    a = min(x)\n",
    "    b = max(x)\n",
    "    print(b - a)\n",
    "    \n"
   ]
  },
  {
   "cell_type": "code",
   "execution_count": 18,
   "metadata": {},
   "outputs": [
    {
     "name": "stdout",
     "output_type": "stream",
     "text": [
      "9017.356606000001\n"
     ]
    }
   ],
   "source": [
    "amplitude(x)"
   ]
  },
  {
   "cell_type": "code",
   "execution_count": 51,
   "metadata": {},
   "outputs": [
    {
     "name": "stdout",
     "output_type": "stream",
     "text": [
      "nan\n"
     ]
    }
   ],
   "source": [
    "#esperança\n",
    "ey= (y*fy)\n",
    "espy = sum(ey)\n",
    "print(espy)"
   ]
  },
  {
   "cell_type": "code",
   "execution_count": null,
   "metadata": {},
   "outputs": [],
   "source": [
    "ex= (x*fx)\n",
    "espx = sum(ex)\n",
    "print(espx)"
   ]
  },
  {
   "cell_type": "code",
   "execution_count": 43,
   "metadata": {},
   "outputs": [],
   "source": [
    "#variancia para esperança\n",
    "def varianciaesp(x=None,fx=None):\n",
    "    e = x*fx\n",
    "    s = ((x - e)**2)* fx\n",
    "    v = sum(s)\n",
    "    print(v)"
   ]
  },
  {
   "cell_type": "code",
   "execution_count": 44,
   "metadata": {},
   "outputs": [
    {
     "name": "stdout",
     "output_type": "stream",
     "text": [
      "1.59375\n"
     ]
    }
   ],
   "source": [
    "varianciaesp(x,fx)"
   ]
  },
  {
   "cell_type": "code",
   "execution_count": null,
   "metadata": {},
   "outputs": [],
   "source": [
    "#covariancia\n",
    "cov(x,y)= varianciaesp(x,fx) * varianciaesp(y,fy)"
   ]
  },
  {
   "cell_type": "code",
   "execution_count": 15,
   "metadata": {},
   "outputs": [
    {
     "name": "stdout",
     "output_type": "stream",
     "text": [
      "144.11530166571796\n"
     ]
    }
   ],
   "source": [
    "m = (3**3*0.1 + 2**3*0.3+ 4**3*0.6)/(0.6708**3) \n",
    "print(m)\n",
    "\n",
    "\n"
   ]
  },
  {
   "cell_type": "code",
   "execution_count": 37,
   "metadata": {},
   "outputs": [
    {
     "name": "stdout",
     "output_type": "stream",
     "text": [
      "0.07290000000000002\n"
     ]
    }
   ],
   "source": [
    "#Distribuição binominal n = nº ensaios\n",
    "#P(x=k)= C(k,n)*(p**k)*q**(n-k)\n",
    "#C = factorial(n)/factorial(k)* factorial(n-k)\n",
    "p = 0.10\n",
    "q =0.9\n",
    "k = 2\n",
    "n = 5\n",
    "C = 120 /12\n",
    "px = C* (0.10**2)*(0.9**(5-2))\n",
    "print(px)\n",
    "#variancia = V(X)= n*p*q\n",
    "\n",
    "\n",
    "\n"
   ]
  },
  {
   "cell_type": "code",
   "execution_count": null,
   "metadata": {},
   "outputs": [],
   "source": [
    "#distribuição normal\n",
    "#z = x - mean(x)/ stdev(x) = v() \n",
    "#procurar v na tabela de distribuição normal\n",
    "\n"
   ]
  },
  {
   "cell_type": "code",
   "execution_count": 17,
   "metadata": {},
   "outputs": [
    {
     "name": "stdout",
     "output_type": "stream",
     "text": [
      "0.8536585365853658\n"
     ]
    }
   ],
   "source": [
    "p = 0.9*0.7/(0.9*0.7 + (0.9*0.3 * 0.4))\n",
    "print(p)"
   ]
  },
  {
   "cell_type": "code",
   "execution_count": 76,
   "metadata": {},
   "outputs": [
    {
     "name": "stdout",
     "output_type": "stream",
     "text": [
      "[3, 3, 3, 4, 10, 14, 25, 50, 80, 80]\n"
     ]
    }
   ],
   "source": [
    "list = [3,4,3,3,14,10,80,50,25,80]\n",
    "list.sort()\n",
    "print(list)\n",
    "list2= [3, 3, 3, 4, 12]\n",
    "list3 = [12, 25, 50, 80, 80]"
   ]
  },
  {
   "cell_type": "code",
   "execution_count": 77,
   "metadata": {},
   "outputs": [
    {
     "name": "stdout",
     "output_type": "stream",
     "text": [
      "12.0\n",
      "3\n",
      "50\n"
     ]
    }
   ],
   "source": [
    "print(statistics.median(list))\n",
    "print(statistics.median(list2))\n",
    "print(statistics.median(list3))"
   ]
  },
  {
   "cell_type": "code",
   "execution_count": 72,
   "metadata": {},
   "outputs": [
    {
     "ename": "SyntaxError",
     "evalue": "invalid syntax (<ipython-input-72-a5f65d7b41f1>, line 3)",
     "output_type": "error",
     "traceback": [
      "\u001b[1;36m  File \u001b[1;32m\"<ipython-input-72-a5f65d7b41f1>\"\u001b[1;36m, line \u001b[1;32m3\u001b[0m\n\u001b[1;33m    print(statistics.median(list3)\u001b[0m\n\u001b[1;37m    ^\u001b[0m\n\u001b[1;31mSyntaxError\u001b[0m\u001b[1;31m:\u001b[0m invalid syntax\n"
     ]
    }
   ],
   "source": [
    "print(statistics.median(list))\n",
    "print(statistics.median(list2)\n",
    "print(statistics.median(list3) "
   ]
  },
  {
   "cell_type": "code",
   "execution_count": 78,
   "metadata": {},
   "outputs": [
    {
     "name": "stdout",
     "output_type": "stream",
     "text": [
      "3.3\n"
     ]
    }
   ],
   "source": [
    "x = 3*0.1 + 2*0.3 + 4*0.6\n",
    "print(x)"
   ]
  },
  {
   "cell_type": "code",
   "execution_count": 84,
   "metadata": {},
   "outputs": [
    {
     "name": "stdout",
     "output_type": "stream",
     "text": [
      "0.5119999999999997\n"
     ]
    }
   ],
   "source": [
    "m = (3.3 - 2.5)**3\n",
    "print(m)"
   ]
  },
  {
   "cell_type": "code",
   "execution_count": 97,
   "metadata": {},
   "outputs": [
    {
     "name": "stdout",
     "output_type": "stream",
     "text": [
      "-1.1110773328198953\n"
     ]
    }
   ],
   "source": [
    "cv = (0.5*-0.6708)/ ((0.45**0.5)**3)\n",
    "print(cv)"
   ]
  },
  {
   "cell_type": "code",
   "execution_count": 83,
   "metadata": {},
   "outputs": [
    {
     "name": "stdout",
     "output_type": "stream",
     "text": [
      "43.5\n"
     ]
    }
   ],
   "source": [
    "x = 27*0.1 + 8*0.3 + 64*0.6\n",
    "print(x)"
   ]
  },
  {
   "cell_type": "code",
   "execution_count": 89,
   "metadata": {},
   "outputs": [
    {
     "name": "stdout",
     "output_type": "stream",
     "text": [
      "0.03773020586399999\n"
     ]
    }
   ],
   "source": [
    "i = 0.3354**3\n",
    "print(i)"
   ]
  },
  {
   "cell_type": "code",
   "execution_count": null,
   "metadata": {},
   "outputs": [],
   "source": []
  }
 ],
 "metadata": {
  "kernelspec": {
   "display_name": "Python 3",
   "language": "python",
   "name": "python3"
  },
  "language_info": {
   "codemirror_mode": {
    "name": "ipython",
    "version": 3
   },
   "file_extension": ".py",
   "mimetype": "text/x-python",
   "name": "python",
   "nbconvert_exporter": "python",
   "pygments_lexer": "ipython3",
   "version": "3.8.5"
  }
 },
 "nbformat": 4,
 "nbformat_minor": 4
}
